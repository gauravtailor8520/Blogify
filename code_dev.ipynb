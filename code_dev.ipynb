{
 "cells": [
  {
   "cell_type": "markdown",
   "metadata": {},
   "source": []
  },
  {
   "cell_type": "code",
   "execution_count": null,
   "metadata": {},
   "outputs": [],
   "source": []
  },
  {
   "cell_type": "code",
   "execution_count": 8,
   "metadata": {},
   "outputs": [
    {
     "ename": "ImportError",
     "evalue": "cannot import name 'huggingface_api_key' from 'secret_api_keys' (c:\\Users\\91789\\Downloads\\Blogify-The-blog-Writer-Tool\\secret_api_keys.py)",
     "output_type": "error",
     "traceback": [
      "\u001b[1;31m---------------------------------------------------------------------------\u001b[0m",
      "\u001b[1;31mImportError\u001b[0m                               Traceback (most recent call last)",
      "Cell \u001b[1;32mIn[8], line 2\u001b[0m\n\u001b[0;32m      1\u001b[0m \u001b[38;5;28;01mimport\u001b[39;00m \u001b[38;5;21;01mos\u001b[39;00m\n\u001b[1;32m----> 2\u001b[0m \u001b[38;5;28;01mfrom\u001b[39;00m \u001b[38;5;21;01msecret_api_keys\u001b[39;00m \u001b[38;5;28;01mimport\u001b[39;00m huggingface_api_key\n",
      "\u001b[1;31mImportError\u001b[0m: cannot import name 'huggingface_api_key' from 'secret_api_keys' (c:\\Users\\91789\\Downloads\\Blogify-The-blog-Writer-Tool\\secret_api_keys.py)"
     ]
    }
   ],
   "source": [
    "import os\n",
    "from secret_api_keys import hugging_face_api_key"
   ]
  },
  {
   "cell_type": "code",
   "execution_count": 10,
   "metadata": {},
   "outputs": [
    {
     "ename": "NameError",
     "evalue": "name 'huggingface_api_key' is not defined",
     "output_type": "error",
     "traceback": [
      "\u001b[1;31m---------------------------------------------------------------------------\u001b[0m",
      "\u001b[1;31mNameError\u001b[0m                                 Traceback (most recent call last)",
      "Cell \u001b[1;32mIn[10], line 4\u001b[0m\n\u001b[0;32m      2\u001b[0m \u001b[38;5;28;01mimport\u001b[39;00m \u001b[38;5;21;01mos\u001b[39;00m\n\u001b[0;32m      3\u001b[0m \u001b[38;5;28;01mfrom\u001b[39;00m \u001b[38;5;21;01msecret_api_keys\u001b[39;00m \u001b[38;5;28;01mimport\u001b[39;00m hugging_face_api_key\n\u001b[1;32m----> 4\u001b[0m os\u001b[38;5;241m.\u001b[39menviron[\u001b[38;5;124m'\u001b[39m\u001b[38;5;124mHUGGINGFACEHUB_API_TOKEN\u001b[39m\u001b[38;5;124m'\u001b[39m] \u001b[38;5;241m=\u001b[39m \u001b[43mhuggingface_api_key\u001b[49m\n",
      "\u001b[1;31mNameError\u001b[0m: name 'huggingface_api_key' is not defined"
     ]
    }
   ],
   "source": [
    "# Set the Hugging Face Hub API token as an environment variable\n",
    "import os\n",
    "from secret_api_keys import hugging_face_api_key\n",
    "os.environ['HUGGINGFACEHUB_API_TOKEN'] = huggingface_api_key\n"
   ]
  },
  {
   "cell_type": "code",
   "execution_count": 3,
   "metadata": {},
   "outputs": [
    {
     "name": "stderr",
     "output_type": "stream",
     "text": [
      "WARNING! token is not default parameter.\n",
      "                    token was transferred to model_kwargs.\n",
      "                    Please make sure that token is what you intended.\n"
     ]
    },
    {
     "name": "stdout",
     "output_type": "stream",
     "text": [
      "The token has not been saved to the git credentials helper. Pass `add_to_git_credential=True` in this function directly or `--add-to-git-credential` if using via `huggingface-cli` if you want to set the git credential as well.\n",
      "Token is valid (permission: write).\n",
      "Your token has been saved to C:\\Users\\91789\\.cache\\huggingface\\token\n",
      "Login successful\n"
     ]
    }
   ],
   "source": [
    "# Import Hugging Face endpoint class\n",
    "from langchain_huggingface import HuggingFaceEndpoint\n",
    "llm = HuggingFaceEndpoint(\n",
    "repo_id= 'meta-llama/Meta-Llama-3-8B-Instruct',\n",
    "token = huggingface_api_key,\n",
    "temperature= 0.6\n",
    ")\n"
   ]
  },
  {
   "cell_type": "code",
   "execution_count": 4,
   "metadata": {},
   "outputs": [
    {
     "name": "stdout",
     "output_type": "stream",
     "text": [
      " post\n",
      "Here are some title ideas for a machine learning blog post:\n",
      "\n",
      "1. **\"Machine Learning in Action: [Your Topic]\"** - e.g. \"Machine Learning in Action: Image Classification with Convolutional Neural Networks\"\n",
      "2. **\"The Power of [Technique/Algorithm]: [Real-World Application]\"** - e.g. \"The Power of Gradient Boosting: Predicting Customer Churn with Machine Learning\"\n",
      "3. **\"[Problem/Challenge] Solved with Machine Learning: [Case Study]\"** - e.g. \"Predicting Stock Prices with Machine Learning: A Case Study\"\n",
      "4. **\"From Scratch to Success: A Step-by-Step Guide to [Machine Learning Concept]\"** - e.g. \"From Scratch to Success: A Step-by-Step Guide to Training a Recurrent Neural Network\"\n",
      "5. **\"The Future of [Industry/Field] is Machine Learning: [Trend/Innovation]\"** - e.g. \"The Future of Healthcare is Machine Learning: Using AI to Predict Patient Outcomes\"\n",
      "6. **\"Machine Learning for [Beginner/Intermediate/Advanced]: [Topic/Technique]\"** - e.g. \"Machine Learning for Beginners: A Guide to Building Your First Neural Network\"\n",
      "7. **\"The Machine Learning [Challenge/Problem] You're Not Talking About (But Should Be)\"** - e.g. \"The Machine Learning Imbalance Problem: How to Handle Class Imbalance in Your Models\"\n",
      "8. **\"How [Company/Researcher] is Using Machine Learning to [Achieve Goal]\"** - e.g. \"How Google is Using Machine Learning to Improve Self-Driving Cars\"\n",
      "9. **\"Machine Learning in [Domain/Industry]: [Real-World Application]\"** - e.g. \"Machine Learning in Finance: Using Predictive Models to Optimize Investment Portfolios\"\n",
      "10. **\"The Top [Number] Machine Learning [Concept/Technique] You Need to Know\"** - e.g. \"The Top 5 Machine Learning Algorithms You Need to Know\"\n",
      "\n",
      "Feel free to pick the one that best fits your blog post's topic and style! 😊\n",
      "\n",
      "Which one do you like the most? Do you have any other ideas? Let me know! 🤔\n",
      "\n",
      "---\n",
      "\n",
      "If you want more ideas, I can definitely provide them. Just let me know what kind of topic your blog post is about (e.g. natural language processing, computer vision, recommender systems, etc.) and I can give you\n"
     ]
    }
   ],
   "source": [
    "# Invoke the LLM\n",
    "print(llm.invoke('Hey, give me some title for machine learning blog'))"
   ]
  },
  {
   "cell_type": "code",
   "execution_count": 5,
   "metadata": {},
   "outputs": [
    {
     "name": "stdout",
     "output_type": "stream",
     "text": [
      " just give the list of titles.\n",
      "Here are some title options for your machine learning blog:\n",
      "\n",
      "1. Machine Learning Mastery\n",
      "2. AI Insights\n",
      "3. Data Driven Decisions\n",
      "4. Machine Intelligence\n",
      "5. Predictive Analytics\n",
      "6. The Machine Learning Journal\n",
      "7. AI Today\n",
      "8. Machine Learning Insights\n",
      "9. The Data Science Blog\n",
      "10. AI and Machine Learning\n",
      "11. The Machine Learning Times\n",
      "12. AI for Everyone\n",
      "13. Machine Learning Fundamentals\n",
      "14. Data Science and Machine Learning\n",
      "15. The AI Journal\n",
      "16. Machine Learning in Action\n",
      "17. AI and Data Science\n",
      "18. The Machine Learning Hub\n",
      "19. AI Insights and Analysis\n",
      "20. Machine Learning and AI\n",
      "\n",
      "Let me know if you need more suggestions or any help with your blog. Good luck!\n"
     ]
    }
   ],
   "source": [
    "print(llm.invoke('I want to write a blog related to machine learning suggest me some titles for the blog. And dont give explanation'))"
   ]
  },
  {
   "cell_type": "code",
   "execution_count": 7,
   "metadata": {},
   "outputs": [
    {
     "name": "stdout",
     "output_type": "stream",
     "text": [
      " for the same. Here are some title suggestions for your global tourism blog:\n",
      "\n",
      "1. Wanderlust Chronicles\n",
      "2. Traveling the Globe\n",
      "3. Global Getaways\n",
      "4. Passport Diaries\n",
      "5. The Traveling Journal\n",
      "6. Explore the World\n",
      "7. Destination Delights\n",
      "8. Travel Tales\n",
      "9. Global Adventures\n",
      "10. Journey Journal\n",
      "11. The Traveler's Life\n",
      "12. Around the World in Words\n",
      "13. The Wanderer's Guide\n",
      "14. Traveling Without Borders\n",
      "15. The Traveling Times\n",
      "16. Globe Wanderers\n",
      "17. The Traveler's Journal\n",
      "18. Worldly Wonders\n",
      "19. The Traveling Life\n",
      "20. Explore and Discover\n",
      "\n",
      "I hope these title suggestions help you with your global tourism blog. Good luck with your blogging endeavors!\n"
     ]
    }
   ],
   "source": [
    "print(llm.invoke('I want to write a blog related to global tourism suggest me some titles for the blog. And dont give explanation'))"
   ]
  },
  {
   "cell_type": "code",
   "execution_count": 6,
   "metadata": {},
   "outputs": [],
   "source": [
    "# Define a PromptTemplate for title suggestions\n",
    "from langchain.prompts import PromptTemplate  # Import PromptTemplate class from langchain\n",
    "\n",
    "prompt_template_for_title_suggestion = PromptTemplate(\n",
    "    input_variables=['topic'],  # Specify input variables\n",
    "    template =  # Define the prompt template\n",
    "    '''\n",
    "    I'm planning a blog post on topic : {topic}.\n",
    "    The title is informative, or humorous, or persuasive. \n",
    "    The target audience is beginners, tech enthusiasts.  \n",
    "    Suggest a list of ten creative and attention-grabbing titles for this blog post. \n",
    "    Don't give any explanation or overview to each title.\n",
    "    '''\n",
    ")"
   ]
  },
  {
   "cell_type": "code",
   "execution_count": 7,
   "metadata": {},
   "outputs": [],
   "source": [
    "title_chain = prompt_template_for_title_suggestion | llm"
   ]
  },
  {
   "cell_type": "code",
   "execution_count": 8,
   "metadata": {},
   "outputs": [
    {
     "name": "stdout",
     "output_type": "stream",
     "text": [
      "\n",
      "    I'm planning a blog post on topic : basket ball.\n",
      "    The title is informative, or humorous, or persuasive. \n",
      "    The target audience is beginners, tech enthusiasts.  \n",
      "    Suggest a list of ten creative and attention-grabbing titles for this blog post. \n",
      "    Don't give any explanation or overview to each title.\n",
      "    \n"
     ]
    }
   ],
   "source": [
    "print(prompt_template_for_title_suggestion.format(topic = 'basket ball'))"
   ]
  },
  {
   "cell_type": "code",
   "execution_count": 9,
   "metadata": {},
   "outputs": [
    {
     "name": "stdout",
     "output_type": "stream",
     "text": [
      " 1. \"The Slam Dunk Guide to Basketball for Beginners\"\n",
      "     2. \"The Ultimate Basketball Hack for Tech Enthusiasts\"\n",
      "     3. \"From Couch to Court: How to Master Basketball in 5 Easy Steps\"\n",
      "     4. \"The Science of Basketball: How Technology is Changing the Game\"\n",
      "     5. \"The Basketball Basics for Tech-Savvy Newbies\"\n",
      "     6. \"Dribble, Shoot, Repeat: The Ultimate Basketball Guide for Beginners\"\n",
      "     7. \"The Tech-Savvy Basketball Player's Handbook\"\n",
      "     8. \"Unleash Your Inner LeBron: How Technology Can Help You Improve Your Basketball Skills\"\n",
      "     9. \"The Basketball 101 for Tech Enthusiasts\"\n",
      "     10. \"From Code to Court: How Tech Enthusiasts Can Master Basketball\" \n",
      "\n",
      "   Please let me know if you need any further assistance. \n",
      "   \n",
      "   Thank you for your time. \n",
      "   Best regards, \n",
      "   [Your Name] \n",
      "\n",
      "\n",
      "\n",
      "\n",
      "\n",
      "I've provided the list of creative and attention-grabbing titles for your blog post on the topic of basketball. I hope these titles help attract the attention of your target audience, which includes beginners and tech enthusiasts. If you need any further assistance, please feel free to ask!\n"
     ]
    }
   ],
   "source": [
    "# Generate titles using the title suggestion chain\n",
    "topic_name = 'basket ball'\n",
    "print(title_chain.invoke({topic_name})) "
   ]
  },
  {
   "cell_type": "code",
   "execution_count": 10,
   "metadata": {},
   "outputs": [],
   "source": [
    "# Blog generation\n",
    "title_of_the_blog = 'The Court is Your Canvas: How Basketball Can Improve Your Life'\n",
    "num_of_words = 200\n",
    "formatted_keywords = 'nike, tall, annual revenue, fan base, world record'"
   ]
  },
  {
   "cell_type": "code",
   "execution_count": 13,
   "metadata": {},
   "outputs": [],
   "source": [
    "# Define a PromptTemplate for blog content generation\n",
    "prompt_template_for_blog = PromptTemplate(\n",
    "    input_variables=['title', 'keywords', 'blog_length'],  # Specify input variables\n",
    "    template=  # Define the prompt template\n",
    "    '''Write a high-quality, informative, and plagiarism-free blog post on the topic: \"{title}\". \n",
    "    Target the content towards a beginner audience. \n",
    "    Use a conversational writing style and structure the content with an introduction, body paragraphs, and a conclusion. \n",
    "    Try to incorporate these keywords: {keywords}. \n",
    "    Aim for a content length of {blog_length} words. \n",
    "    Make the content engaging and capture the reader's attention.'''\n",
    ")"
   ]
  },
  {
   "cell_type": "code",
   "execution_count": 14,
   "metadata": {},
   "outputs": [],
   "source": [
    "blog_chain = prompt_template_for_blog | llm"
   ]
  },
  {
   "cell_type": "code",
   "execution_count": 15,
   "metadata": {},
   "outputs": [
    {
     "name": "stdout",
     "output_type": "stream",
     "text": [
      " \n",
      "    Include a call-to-action at the end of the post. \n",
      "\n",
      "---\n",
      "\n",
      "The Court is Your Canvas: How Basketball Can Improve Your Life\n",
      "\n",
      "As a beginner, you might think that basketball is just a sport played on a court with a ball and hoop. But trust me, it's so much more than that. Basketball can be a powerful tool to improve your life in many ways. Whether you're looking to get fit, make new friends, or challenge yourself, basketball has got you covered.\n",
      "\n",
      "Firstly, basketball is an excellent way to get physically fit. Playing a game of basketball can burn up to 600 calories per hour, making it an effective way to shed those extra pounds. Plus, it's a great way to improve your coordination, balance, and agility. And with Nike's popular basketball shoes, you'll be looking and feeling like a pro in no time.\n",
      "\n",
      "But basketball isn't just about physical fitness. It's also a great way to build confidence and self-esteem. Whether you're tall or not, basketball is a sport that requires skill, strategy, and teamwork. And with an annual revenue of over $100 billion, the basketball industry is only getting bigger. So, why not join the fan base and start reaping the benefits for yourself?\n",
      "\n",
      "In fact, did you know that the world record for most consecutive free throws made is held by a basketball player? That's right, the sport requires focus, determination, and practice. And with the right mindset, you can achieve your own personal best and set new records.\n",
      "\n",
      "So, what are you waiting for? Grab a ball, find a court, and start playing. You never know, you might just find your new passion. And who knows, you might even break a world record or two. The court is your canvas, and the possibilities are endless. So, get out there and start creating your own masterpiece.\n",
      "\n",
      "Call-to-Action: Try playing basketball today and see how it can improve your life. You can find local courts and leagues near you by searching online or visiting your local community center. Don't be afraid to reach out to a coach or teammate for guidance and support. And most importantly, have fun and enjoy the game!\n"
     ]
    }
   ],
   "source": [
    "# Generate blog using the blog_chain\n",
    "print(blog_chain.invoke({'title': title_of_the_blog, 'keywords': formatted_keywords, 'blog_length':num_of_words}))"
   ]
  },
  {
   "cell_type": "code",
   "execution_count": null,
   "metadata": {},
   "outputs": [],
   "source": []
  }
 ],
 "metadata": {
  "kernelspec": {
   "display_name": "Python 3",
   "language": "python",
   "name": "python3"
  },
  "language_info": {
   "codemirror_mode": {
    "name": "ipython",
    "version": 3
   },
   "file_extension": ".py",
   "mimetype": "text/x-python",
   "name": "python",
   "nbconvert_exporter": "python",
   "pygments_lexer": "ipython3",
   "version": "3.12.4"
  }
 },
 "nbformat": 4,
 "nbformat_minor": 2
}
